{
 "cells": [
  {
   "cell_type": "markdown",
   "metadata": {},
   "source": [
    "Computer Vision Final Project 2021\n",
    "Submitted by: \n",
    "- Eliran Malka\n",
    "- Itamar Yacoby\n",
    "- Ben Lahav"
   ]
  },
  {
   "cell_type": "code",
   "execution_count": 1,
   "metadata": {},
   "outputs": [],
   "source": [
    "import matplotlib.pyplot as plt\n",
    "import numpy as np\n",
    "import cv2"
   ]
  },
  {
   "cell_type": "code",
   "execution_count": 2,
   "metadata": {},
   "outputs": [],
   "source": [
    "blueLower = (100, 50, 90)\n",
    "blueUpper = (170, 255, 255) \n",
    "\n",
    "redLower = (1, 22, 240)\n",
    "redUpper = (20, 240, 255)\n",
    "    \n",
    "greenLower = (30, 50, 50)\n",
    "greenUpper = (80, 255, 255)"
   ]
  },
  {
   "cell_type": "code",
   "execution_count": 73,
   "metadata": {},
   "outputs": [],
   "source": [
    "def createMask(frame):\n",
    "    \n",
    "    blurred = cv2.GaussianBlur(frame, (5, 5), 0)\n",
    "    hsv = cv2.cvtColor(blurred, cv2.COLOR_BGR2HSV)\n",
    "       \n",
    "    greenMask = cv2.inRange(hsv, greenLower, greenUpper)\n",
    "    greenMask = cv2.erode(greenMask, None, iterations=1)\n",
    "    greenMask = cv2.dilate(greenMask, None, iterations=1)\n",
    "\n",
    "\n",
    "    blueMask = cv2.inRange(hsv, blueLower, blueUpper)\n",
    "    blueMask = cv2.erode(blueMask, None, iterations=3)\n",
    "    blueMask = cv2.dilate(blueMask, None, iterations=3)\n",
    "\n",
    "\n",
    "    redMask = cv2.inRange(hsv, redLower, redUpper)\n",
    "    redMask = cv2.erode(redMask, None, iterations=2)\n",
    "    redMask = cv2.dilate(redMask, None, iterations=15)\n",
    "\n",
    "      \n",
    "    return greenMask,blueMask,redMask\n",
    "    \n"
   ]
  },
  {
   "cell_type": "code",
   "execution_count": 81,
   "metadata": {},
   "outputs": [],
   "source": [
    "def findBalls(frame):\n",
    "    \n",
    "    greenMask,blueMask,redMask = createMask(frame)\n",
    "    \n",
    "    cntsGreen = cv2.findContours(greenMask.copy(), cv2.RETR_EXTERNAL,cv2.CHAIN_APPROX_SIMPLE)[-2]\n",
    "    #cntsGreen = imutils.grab_contours(cnts)\n",
    "    centerGreen = None\n",
    "\n",
    "    cntsBlue = cv2.findContours(blueMask.copy(), cv2.RETR_EXTERNAL,cv2.CHAIN_APPROX_SIMPLE)[-2]\n",
    "    centerBlue = None\n",
    "\n",
    "    cntsRed = cv2.findContours(redMask.copy(), cv2.RETR_EXTERNAL,cv2.CHAIN_APPROX_SIMPLE)[-2]\n",
    "    centerRed = None\n",
    "    \n",
    "    \n",
    "    if len(cntsGreen) > 0:\n",
    "        cGreen = max(cntsGreen, key=cv2.contourArea)\n",
    "        ((x_green, y_green), radius_green) = cv2.minEnclosingCircle(cGreen)\n",
    "        centerGreen = (int(x_green), int(y_green))\n",
    "        \n",
    "        frameGreen = frame.copy()\n",
    "        if (radius_green < 15) & (radius_green > 10 ) : \n",
    "            cv2.circle(frameGreen,(int(x_green), int(y_green)), 14,(30, 255, 30), -1)\n",
    "            cv2.circle(frameGreen, (int(x_green), int(y_green)), 16,(255, 255, 255), 2)\n",
    "            frame = cv2.addWeighted(frame, 0.3, frameGreen, 0.7, 0.0)\n",
    "\n",
    "    if len(cntsBlue) > 0:   \n",
    "        cBlue = max(cntsBlue, key=cv2.contourArea)\n",
    "        ((x_blue, y_blue), radius_blue) = cv2.minEnclosingCircle(cBlue)\n",
    "        centerBlue = (int(x_blue), int(y_blue))\n",
    "        \n",
    "        frameBlue = frame.copy()\n",
    "        if (radius_blue < 14) & (radius_blue > 10 ) : \n",
    "            cv2.circle(frameBlue, (int(x_blue), int(y_blue)), 14,(255, 30, 30), -1)\n",
    "            cv2.circle(frameBlue, (int(x_blue), int(y_blue)), 16,(255, 255, 255), 2)\n",
    "            frame = cv2.addWeighted(frame, 0.3, frameBlue, 0.7, 0.0)\n",
    "\n",
    "    if len(cntsRed)> 0 :\n",
    "        cRed = max(cntsRed, key=cv2.contourArea)\n",
    "        ((x_red, y_red), radius_red) = cv2.minEnclosingCircle(cRed)\n",
    "        centerRed = (int(x_red), int(y_red))\n",
    "        \n",
    "        frameRed = frame.copy()\n",
    "        if (radius_red < 60) & (radius_red > 15 ) : \n",
    "            # draw the circle and centroid on the frame,\n",
    "            # then update the list of tracked points\n",
    "            cv2.circle(frameRed, (int(x_red), int(y_red)), 14,(30, 30, 255), -1)\n",
    "            cv2.circle(frameRed, (int(x_red), int(y_red)), 16,(255, 255, 255), 2)\n",
    "            frame = cv2.addWeighted(frame, 0.3, frameRed, 0.7, 0.0)\n",
    "            \n",
    "            \n",
    "    return frame,centerGreen,centerBlue,centerRed\n",
    "    \n",
    "    "
   ]
  },
  {
   "cell_type": "code",
   "execution_count": 83,
   "metadata": {},
   "outputs": [],
   "source": [
    "cap = cv2.VideoCapture('P4_juggling.mov')\n",
    "while True:\n",
    "    ret, frame = cap.read() # read next frame\n",
    "    if ret==True:\n",
    "        hsv = cv2.cvtColor(frame, cv2.COLOR_BGR2HSV)\n",
    "        frame,centerGreen,centerBlue,centerRed = findBalls(frame)\n",
    "        cv2.imshow('Final Project Juggling', frame)    \n",
    "        \n",
    "        if (cv2.waitKey(1) & 0xff == 27): # ESC key pressed?\n",
    "            break\n",
    "    else:\n",
    "        break\n",
    "\n",
    "cap.release() # release input video\n",
    "cv2.destroyAllWindows() # delete output window\n",
    "cv2.waitKey(1);"
   ]
  },
  {
   "cell_type": "code",
   "execution_count": null,
   "metadata": {},
   "outputs": [],
   "source": []
  },
  {
   "cell_type": "code",
   "execution_count": null,
   "metadata": {},
   "outputs": [],
   "source": []
  }
 ],
 "metadata": {
  "kernelspec": {
   "display_name": "Python 3",
   "language": "python",
   "name": "python3"
  },
  "language_info": {
   "codemirror_mode": {
    "name": "ipython",
    "version": 3
   },
   "file_extension": ".py",
   "mimetype": "text/x-python",
   "name": "python",
   "nbconvert_exporter": "python",
   "pygments_lexer": "ipython3",
   "version": "3.8.6"
  }
 },
 "nbformat": 4,
 "nbformat_minor": 4
}
